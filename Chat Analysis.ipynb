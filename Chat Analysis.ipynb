{
 "cells": [
  {
   "cell_type": "code",
   "execution_count": 1,
   "metadata": {},
   "outputs": [],
   "source": [
    "#imports\n",
    "import numpy as np\n",
    "import pandas as pd\n",
    "import matplotlib.pyplot as plt\n",
    "%matplotlib inline\n",
    "import seaborn as sns\n",
    "import re"
   ]
  },
  {
   "cell_type": "code",
   "execution_count": 2,
   "metadata": {},
   "outputs": [],
   "source": [
    "chats = \"Friendzzz😎.txt\""
   ]
  },
  {
   "cell_type": "code",
   "execution_count": 3,
   "metadata": {},
   "outputs": [],
   "source": [
    "def load_chats(chats):\n",
    "    return np.array((open(chats,encoding='utf-8')).readlines())\n",
    "    "
   ]
  },
  {
   "cell_type": "code",
   "execution_count": 4,
   "metadata": {},
   "outputs": [],
   "source": [
    "wchats = load_chats(chats)"
   ]
  },
  {
   "cell_type": "code",
   "execution_count": 5,
   "metadata": {},
   "outputs": [
    {
     "data": {
      "text/plain": [
       "array(['18/08/17, 12:21 pm - Amity Parab Docomo: Bc I m confused\\n',\n",
       "       '18/08/17, 12:33 pm - Nilesh Patil: Udya nako ata ajach houn jaude\\n',\n",
       "       '18/08/17, 12:44 pm - Rushi: Sanga bhendi\\n', ...,\n",
       "       '08/12/18, 10:39 am - Pooja: 😅\\n',\n",
       "       '08/12/18, 10:43 am - Nilesh Patil: Shivi archi tai wali hoti ata te taku ka?\\n',\n",
       "       '08/12/18, 10:44 am - Amity Parab Docomo: 😌\\U0001f92b\\n'],\n",
       "      dtype='<U2025')"
      ]
     },
     "execution_count": 5,
     "metadata": {},
     "output_type": "execute_result"
    }
   ],
   "source": [
    "wchats"
   ]
  },
  {
   "cell_type": "code",
   "execution_count": 7,
   "metadata": {},
   "outputs": [],
   "source": [
    "wchats = np.chararray.split(wchats,sep='-',maxsplit=1)"
   ]
  },
  {
   "cell_type": "code",
   "execution_count": 8,
   "metadata": {},
   "outputs": [
    {
     "data": {
      "text/plain": [
       "array([list(['18/08/17, 12:21 pm ', ' Amity Parab Docomo: Bc I m confused\\n']),\n",
       "       list(['18/08/17, 12:33 pm ', ' Nilesh Patil: Udya nako ata ajach houn jaude\\n']),\n",
       "       list(['18/08/17, 12:44 pm ', ' Rushi: Sanga bhendi\\n']), ...,\n",
       "       list(['08/12/18, 10:39 am ', ' Pooja: 😅\\n']),\n",
       "       list(['08/12/18, 10:43 am ', ' Nilesh Patil: Shivi archi tai wali hoti ata te taku ka?\\n']),\n",
       "       list(['08/12/18, 10:44 am ', ' Amity Parab Docomo: 😌\\U0001f92b\\n'])],\n",
       "      dtype=object)"
      ]
     },
     "execution_count": 8,
     "metadata": {},
     "output_type": "execute_result"
    }
   ],
   "source": [
    "wchats"
   ]
  },
  {
   "cell_type": "code",
   "execution_count": 9,
   "metadata": {},
   "outputs": [],
   "source": [
    "def clearArr(st):\n",
    "    if(bool(re.search(r'\\d\\S/\\d\\S/\\d\\S,\\s\\d:\\d\\S\\s\\w\\S',st))):\n",
    "        return True\n",
    "    elif(bool(re.search(r'\\d\\S/\\d\\S/\\d\\S,\\s\\d\\S:\\d\\S\\s\\w\\S',st))):\n",
    "        return True\n",
    "    else:\n",
    "        return False"
   ]
  },
  {
   "cell_type": "code",
   "execution_count": 10,
   "metadata": {},
   "outputs": [],
   "source": [
    "datetime =[]\n",
    "msg=[]\n",
    "def date_msg_seperate(wchats):\n",
    "    for i,item in enumerate(wchats):\n",
    "        if(clearArr(item[0])):        \n",
    "            try:            \n",
    "                msg.append((item[1]).lstrip())\n",
    "                datetime.append(item[0])\n",
    "            except:            \n",
    "                msg.append(item[0])\n",
    "                datetime.append(datetime[-1])\n",
    "        else:\n",
    "            try:\n",
    "                msg[-1]= msg[-1]+''+item[0]\n",
    "            except:\n",
    "                pass"
   ]
  },
  {
   "cell_type": "code",
   "execution_count": 13,
   "metadata": {},
   "outputs": [],
   "source": [
    "date_msg_seperate(wchats)"
   ]
  },
  {
   "cell_type": "code",
   "execution_count": null,
   "metadata": {},
   "outputs": [],
   "source": []
  },
  {
   "cell_type": "code",
   "execution_count": null,
   "metadata": {},
   "outputs": [],
   "source": []
  }
 ],
 "metadata": {
  "kernelspec": {
   "display_name": "Python 3",
   "language": "python",
   "name": "python3"
  },
  "language_info": {
   "codemirror_mode": {
    "name": "ipython",
    "version": 3
   },
   "file_extension": ".py",
   "mimetype": "text/x-python",
   "name": "python",
   "nbconvert_exporter": "python",
   "pygments_lexer": "ipython3",
   "version": "3.6.5"
  }
 },
 "nbformat": 4,
 "nbformat_minor": 2
}
